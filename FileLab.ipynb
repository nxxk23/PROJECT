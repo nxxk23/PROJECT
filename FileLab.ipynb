{
  "nbformat": 4,
  "nbformat_minor": 0,
  "metadata": {
    "colab": {
      "provenance": [],
      "authorship_tag": "ABX9TyOCCL0J/jENg3HGO13I98rf",
      "include_colab_link": true
    },
    "kernelspec": {
      "name": "python3",
      "display_name": "Python 3"
    },
    "language_info": {
      "name": "python"
    }
  },
  "cells": [
    {
      "cell_type": "markdown",
      "metadata": {
        "id": "view-in-github",
        "colab_type": "text"
      },
      "source": [
        "<a href=\"https://colab.research.google.com/github/nxxk23/PROJECT/blob/main/FileLab.ipynb\" target=\"_parent\"><img src=\"https://colab.research.google.com/assets/colab-badge.svg\" alt=\"Open In Colab\"/></a>"
      ]
    },
    {
      "cell_type": "code",
      "execution_count": 1,
      "metadata": {
        "colab": {
          "base_uri": "https://localhost:8080/"
        },
        "id": "XS63Md661IfK",
        "outputId": "a680e48f-01a4-40a9-e995-261e10d445c8"
      },
      "outputs": [
        {
          "output_type": "stream",
          "name": "stdout",
          "text": [
            "Drive already mounted at /content/drive; to attempt to forcibly remount, call drive.mount(\"/content/drive\", force_remount=True).\n"
          ]
        }
      ],
      "source": [
        "from google.colab import drive\n",
        "drive.mount('/content/drive')"
      ]
    },
    {
      "cell_type": "code",
      "source": [
        "import pandas as pd\n",
        "hemo = pd.read_csv('/content/drive/MyDrive/Thesis Project Kidney/Hemodialysis.csv', encoding='latin1')"
      ],
      "metadata": {
        "id": "Vpqvey0s1KkQ"
      },
      "execution_count": 2,
      "outputs": []
    },
    {
      "cell_type": "code",
      "source": [
        "lab = pd.read_csv('/content/drive/MyDrive/Thesis Project Kidney/Lab.csv')"
      ],
      "metadata": {
        "id": "lcsNw4uO3wl9"
      },
      "execution_count": 3,
      "outputs": []
    },
    {
      "cell_type": "code",
      "source": [
        "# Create a list from hemo['PatientUID']\n",
        "patient_uid_list = hemo['PatientUID'].unique().tolist()\n",
        "# Remove patient UIDs from lab['PatientUID'] that are not in the list\n",
        "lab = lab[~lab['PatientUID'].isin(patient_uid_list)]\n",
        "lab.shape"
      ],
      "metadata": {
        "colab": {
          "base_uri": "https://localhost:8080/"
        },
        "id": "-neRdsm51Uqa",
        "outputId": "ba118e38-a7d3-46e9-d2e1-a4bd399f7877"
      },
      "execution_count": 4,
      "outputs": [
        {
          "output_type": "execute_result",
          "data": {
            "text/plain": [
              "(17728574, 11)"
            ]
          },
          "metadata": {},
          "execution_count": 4
        }
      ]
    },
    {
      "cell_type": "code",
      "source": [
        "lab_location = lab['Location'].value_counts().reset_index()\n",
        "lab_location.columns = ['Location', 'Location_Count']\n",
        "\n",
        "lab_result = lab['ResultItemName'].value_counts().reset_index()\n",
        "lab_result.columns = ['ResultItemName', 'ResultItemName_Count']\n",
        "\n",
        "lab_request = lab['RequestItemName'].value_counts().reset_index()\n",
        "lab_request.columns = ['RequestItemName', 'RequestItemName_Count']\n",
        "\n",
        "columns_to_count = ['Location', 'ResultItemName', 'RequestItemName']\n",
        "\n",
        "# Count unique values in the specified columns\n",
        "lab_count = lab[columns_to_count].value_counts().reset_index()\n",
        "lab_count.columns = ['Location', 'ResultItemName', 'RequestItemName', 'Count']\n",
        "\n",
        "lab_df = pd.DataFrame(lab_count)"
      ],
      "metadata": {
        "id": "DrUqYhbG1cX9"
      },
      "execution_count": 5,
      "outputs": []
    },
    {
      "cell_type": "code",
      "source": [
        "lab_df.columns"
      ],
      "metadata": {
        "colab": {
          "base_uri": "https://localhost:8080/"
        },
        "id": "gc2EqknZ2xj_",
        "outputId": "afba22d7-729b-4cac-8b3b-e6fdb9ebbaf7"
      },
      "execution_count": 38,
      "outputs": [
        {
          "output_type": "execute_result",
          "data": {
            "text/plain": [
              "Index(['Location', 'ResultItemName', 'RequestItemName', 'Count'], dtype='object')"
            ]
          },
          "metadata": {},
          "execution_count": 38
        }
      ]
    },
    {
      "cell_type": "code",
      "source": [
        "#lab[lab['ResultValue'].isnull()] #196"
      ],
      "metadata": {
        "id": "8k5ovtnn5-RV"
      },
      "execution_count": 16,
      "outputs": []
    },
    {
      "cell_type": "code",
      "source": [
        "lab_df['ResultItemName'].unique() #'eGFR(CKD-EPI) age >=18'"
      ],
      "metadata": {
        "colab": {
          "base_uri": "https://localhost:8080/"
        },
        "id": "3Byon1ur5Iiu",
        "outputId": "1bbf68ef-feab-4d58-9a2b-e16e6e1596a4"
      },
      "execution_count": 8,
      "outputs": [
        {
          "output_type": "execute_result",
          "data": {
            "text/plain": [
              "array(['CREATININE, 32202', 'eGFR(CKD-EPI) age >=18', 'POTASSIUM, 32103',\n",
              "       ..., 'PCR for VZV : quantitative', 'PCR for XDR TB',\n",
              "       'Parvo virus B19, qualitative RT-PCR'], dtype=object)"
            ]
          },
          "metadata": {},
          "execution_count": 8
        }
      ]
    },
    {
      "cell_type": "code",
      "source": [
        "slope = pd.read_excel('/content/drive/MyDrive/Thesis Project Kidney/Assign/Assign 3: Re-CountSlope & Quartile/LabSlope.xlsx')"
      ],
      "metadata": {
        "id": "L3BREJOU62TK"
      },
      "execution_count": 17,
      "outputs": []
    },
    {
      "cell_type": "code",
      "source": [
        "LabSummaryDF = pd.DataFrame(lab_df)"
      ],
      "metadata": {
        "id": "FFsevLMA-NeL"
      },
      "execution_count": 36,
      "outputs": []
    },
    {
      "cell_type": "code",
      "source": [
        "\n",
        "lab1 = []\n",
        "\n",
        "for pid in lab['PatientUID'].unique():\n",
        "    for vid in lab['PatientVisitUID'].unique():\n",
        "        subsetLabDF = lab[(lab['PatientUID'] == pid) & (lab['PatientVisitUID'] == vid)].set_index('ResultItemName')\n",
        "\n",
        "        pVLabList = subsetLabDF.index.tolist()\n",
        "\n",
        "        for labItem in [LabSummaryDF['ResultItemName'][i] for i in [0, 103]]:\n",
        "            if labItem in pVLabList:\n",
        "                labValue = subsetLabDF.loc[labItem, 'ResultValue']\n",
        "                lab1.append(labValue)\n",
        "            else:\n",
        "                lab1.append(None)\n",
        "\n",
        "slope['lab1'] = lab1\n"
      ],
      "metadata": {
        "id": "Lny3Ymtm-Gf2"
      },
      "execution_count": null,
      "outputs": []
    }
  ]
}