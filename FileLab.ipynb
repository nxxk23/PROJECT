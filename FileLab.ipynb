{
  "nbformat": 4,
  "nbformat_minor": 0,
  "metadata": {
    "colab": {
      "provenance": [],
      "toc_visible": true,
      "authorship_tag": "ABX9TyMvZr2lNP3bvWo7mA+eh+/E",
      "include_colab_link": true
    },
    "kernelspec": {
      "name": "python3",
      "display_name": "Python 3"
    },
    "language_info": {
      "name": "python"
    }
  },
  "cells": [
    {
      "cell_type": "markdown",
      "metadata": {
        "id": "view-in-github",
        "colab_type": "text"
      },
      "source": [
        "<a href=\"https://colab.research.google.com/github/nxxk23/PROJECT/blob/main/FileLab.ipynb\" target=\"_parent\"><img src=\"https://colab.research.google.com/assets/colab-badge.svg\" alt=\"Open In Colab\"/></a>"
      ]
    },
    {
      "cell_type": "code",
      "execution_count": 1,
      "metadata": {
        "colab": {
          "base_uri": "https://localhost:8080/"
        },
        "id": "XS63Md661IfK",
        "outputId": "e18b5723-169c-48e1-d5ea-5e47b380cbe6"
      },
      "outputs": [
        {
          "output_type": "stream",
          "name": "stdout",
          "text": [
            "Drive already mounted at /content/drive; to attempt to forcibly remount, call drive.mount(\"/content/drive\", force_remount=True).\n"
          ]
        }
      ],
      "source": [
        "from google.colab import drive\n",
        "drive.mount('/content/drive')"
      ]
    },
    {
      "cell_type": "code",
      "source": [
        "import pandas as pd\n",
        "hemo = pd.read_csv('/content/drive/MyDrive/Thesis Project Kidney/Hemodialysis.csv', encoding='latin1')"
      ],
      "metadata": {
        "id": "Vpqvey0s1KkQ"
      },
      "execution_count": 2,
      "outputs": []
    },
    {
      "cell_type": "code",
      "source": [
        "lab = pd.read_csv('/content/drive/MyDrive/Thesis Project Kidney/Lab.csv')"
      ],
      "metadata": {
        "id": "lcsNw4uO3wl9"
      },
      "execution_count": 3,
      "outputs": []
    },
    {
      "cell_type": "code",
      "source": [
        "slope = pd.read_excel('/content/drive/MyDrive/Thesis Project Kidney/Assign/Assign 3: Re-CountSlope & Quartile/LabSlope.xlsx')"
      ],
      "metadata": {
        "id": "L3BREJOU62TK"
      },
      "execution_count": 4,
      "outputs": []
    },
    {
      "cell_type": "code",
      "source": [
        "# Create a list from hemo['PatientUID']\n",
        "patient_uid_list = hemo['PatientUID'].unique().tolist()\n",
        "# Remove patient UIDs from lab['PatientUID'] that are not in the list\n",
        "lab = lab[~lab['PatientUID'].isin(patient_uid_list)]\n",
        "lab.shape"
      ],
      "metadata": {
        "colab": {
          "base_uri": "https://localhost:8080/"
        },
        "id": "-neRdsm51Uqa",
        "outputId": "a62ea332-48fb-491c-ef7a-76c7ad510d67"
      },
      "execution_count": 5,
      "outputs": [
        {
          "output_type": "execute_result",
          "data": {
            "text/plain": [
              "(17728574, 11)"
            ]
          },
          "metadata": {},
          "execution_count": 5
        }
      ]
    },
    {
      "cell_type": "code",
      "source": [
        "lab_location = lab['Location'].value_counts().reset_index()\n",
        "lab_location.columns = ['Location', 'Location_Count']\n",
        "\n",
        "lab_result = lab['ResultItemName'].value_counts().reset_index()\n",
        "lab_result.columns = ['ResultItemName', 'ResultItemName_Count']\n",
        "\n",
        "lab_request = lab['RequestItemName'].value_counts().reset_index()\n",
        "lab_request.columns = ['RequestItemName', 'RequestItemName_Count']\n",
        "\n",
        "columns_to_count = ['Location', 'ResultItemName', 'RequestItemName']\n",
        "\n",
        "# Count unique values in the specified columns\n",
        "lab_count = lab[columns_to_count].value_counts().reset_index()\n",
        "lab_count.columns = ['Location', 'ResultItemName', 'RequestItemName', 'Count']\n",
        "\n",
        "lab_df = pd.DataFrame(lab_count)"
      ],
      "metadata": {
        "id": "DrUqYhbG1cX9"
      },
      "execution_count": 6,
      "outputs": []
    },
    {
      "cell_type": "code",
      "source": [
        "#lab[lab['ResultValue'].isnull()] #196"
      ],
      "metadata": {
        "id": "8k5ovtnn5-RV"
      },
      "execution_count": 7,
      "outputs": []
    },
    {
      "cell_type": "markdown",
      "source": [
        "# **Slope**\n",
        "\n",
        "\n",
        "> **ค่า x = ค่าจากวิสิท t ที่มาก่อน**\n",
        "\n",
        "\n"
      ],
      "metadata": {
        "id": "LWtGxfWrsVS7"
      }
    },
    {
      "cell_type": "code",
      "source": [
        "data = pd.DataFrame(slope)\n",
        "data = data[['PatientUID','PatientVisitUID','Slopes']]\n",
        "data = data.dropna()"
      ],
      "metadata": {
        "id": "E0X4W5PNvrjg"
      },
      "execution_count": 25,
      "outputs": []
    },
    {
      "cell_type": "code",
      "source": [
        "df = pd.DataFrame(data)\n",
        "\n",
        "# Sort the DataFrame by PatientUID and PatientVisitUID\n",
        "df = df.sort_values(by=['PatientUID', 'PatientVisitUID'])\n",
        "\n",
        "# Create a new column to store the previous slope value\n",
        "df['PreviousSlope'] = df['Slopes'].shift(1)\n",
        "\n",
        "# Update the Slopes column with the PreviousSlope values\n",
        "df['Slopes'] = df['PreviousSlope']\n",
        "\n",
        "# Drop the PreviousSlope column\n",
        "df = df.drop(columns=['PreviousSlope'])\n",
        "data = df.dropna()"
      ],
      "metadata": {
        "id": "dgCYTzxfsONa"
      },
      "execution_count": 26,
      "outputs": []
    },
    {
      "cell_type": "code",
      "source": [
        "LabSummaryDF.columns"
      ],
      "metadata": {
        "id": "8EguDaJYsUR8",
        "outputId": "bc44edc0-fce2-46ea-f335-3a7345bc61b0",
        "colab": {
          "base_uri": "https://localhost:8080/"
        }
      },
      "execution_count": 30,
      "outputs": [
        {
          "output_type": "execute_result",
          "data": {
            "text/plain": [
              "Index(['Location', 'ResultItemName', 'RequestItemName', 'Count'], dtype='object')"
            ]
          },
          "metadata": {},
          "execution_count": 30
        }
      ]
    },
    {
      "cell_type": "code",
      "source": [],
      "metadata": {
        "id": "h_nrKG0EAfRS"
      },
      "execution_count": null,
      "outputs": []
    },
    {
      "cell_type": "code",
      "source": [
        "LabSummaryDF = pd.DataFrame(lab_df)"
      ],
      "metadata": {
        "id": "FFsevLMA-NeL"
      },
      "execution_count": 11,
      "outputs": []
    },
    {
      "cell_type": "code",
      "source": [
        "LabSummaryDF.columns"
      ],
      "metadata": {
        "id": "o5sPpM8xsixE",
        "outputId": "2ec3f3e4-a043-4d40-dfbc-d01e93d77153",
        "colab": {
          "base_uri": "https://localhost:8080/"
        }
      },
      "execution_count": 12,
      "outputs": [
        {
          "output_type": "execute_result",
          "data": {
            "text/plain": [
              "Index(['Location', 'ResultItemName', 'RequestItemName', 'Count'], dtype='object')"
            ]
          },
          "metadata": {},
          "execution_count": 12
        }
      ]
    },
    {
      "cell_type": "code",
      "source": [
        "lab.columns"
      ],
      "metadata": {
        "id": "nGzfHLHds1FE",
        "outputId": "44bfa906-9c58-4524-f2bd-75174200d96b",
        "colab": {
          "base_uri": "https://localhost:8080/"
        }
      },
      "execution_count": 13,
      "outputs": [
        {
          "output_type": "execute_result",
          "data": {
            "text/plain": [
              "Index(['LabNo', 'PatientUID', 'PatientVisitUID', 'Location', 'RequestItemName',\n",
              "       'ResultItemName', 'CWhen', 'ResultDttm', 'ResultValue', 'Unit',\n",
              "       'ReferenceRange'],\n",
              "      dtype='object')"
            ]
          },
          "metadata": {},
          "execution_count": 13
        }
      ]
    },
    {
      "cell_type": "markdown",
      "source": [
        "# **List of LabValue**"
      ],
      "metadata": {
        "id": "1AMrFSpXyHRQ"
      }
    },
    {
      "cell_type": "code",
      "source": [
        "# Filter lab data based on indices in LabSummaryDF\n",
        "lab1 = LabSummaryDF[LabSummaryDF.index.isin(lab.index[[3, 129, 185, 312]])] # Using indices 1 and 3 from LabSummaryDF\n",
        "\n",
        "# Create the BUN list containing ResultItemName values\n",
        "BUN = lab1['ResultItemName'].tolist()\n",
        "\n",
        "# Use .loc to update values in the ResultItemName column\n",
        "lab.loc[lab['ResultItemName'].isin(BUN), 'ResultItemName'] = 'BUN'"
      ],
      "metadata": {
        "id": "vlz5-d_qtdYu"
      },
      "execution_count": 14,
      "outputs": []
    },
    {
      "cell_type": "code",
      "source": [
        "import pandas as pd\n",
        "\n",
        "# Assuming you have the 'data', 'lab', and 'LabSummaryDF' DataFrames\n",
        "\n",
        "lab1 = []  # Initialize the list to store lab values\n",
        "\n",
        "for pid, vid in zip(data['PatientUID'], data['PatientVisitUID']):\n",
        "    # Filter labDF for the current patient ID and visit ID\n",
        "    subsetLabDF = lab[(lab['PatientUID'] == pid) & (lab['PatientVisitUID'] == vid)]\n",
        "\n",
        "    pVLabList = subsetLabDF['ResultItemName']  # Get the list of lab items\n",
        "\n",
        "    for labValue in LabSummaryDF.loc[[0, 103], 'ResultItemName']:\n",
        "        if labValue in pVLabList.values:\n",
        "            # Get the corresponding ResultValue\n",
        "            labResultValue = subsetLabDF.loc[subsetLabDF['ResultItemName'] == labValue, 'ResultValue'].values[0]\n",
        "            lab1.append(labResultValue)\n",
        "        else:\n",
        "            lab1.append(None)  # Append None if labValue is not found\n",
        "\n",
        "# Add the lab1 list as a new column in the 'data' DataFrame\n",
        "data['lab1'] = lab1\n"
      ],
      "metadata": {
        "id": "3-o-mQNe6_QW"
      },
      "execution_count": null,
      "outputs": []
    }
  ]
}