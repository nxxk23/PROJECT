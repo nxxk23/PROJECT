{
  "nbformat": 4,
  "nbformat_minor": 0,
  "metadata": {
    "colab": {
      "provenance": [],
      "mount_file_id": "1OSQ7SHu_yFgftA0DRgyOrnQqFXXkJ0Ui",
      "authorship_tag": "ABX9TyNaZJRIyBhCHCcMFe3KVmBT",
      "include_colab_link": true
    },
    "kernelspec": {
      "name": "python3",
      "display_name": "Python 3"
    },
    "language_info": {
      "name": "python"
    }
  },
  "cells": [
    {
      "cell_type": "markdown",
      "metadata": {
        "id": "view-in-github",
        "colab_type": "text"
      },
      "source": [
        "<a href=\"https://colab.research.google.com/github/nxxk23/PROJECT/blob/main/TestKidneys.ipynb\" target=\"_parent\"><img src=\"https://colab.research.google.com/assets/colab-badge.svg\" alt=\"Open In Colab\"/></a>"
      ]
    },
    {
      "cell_type": "code",
      "source": [
        "from google.colab import drive\n",
        "drive.mount('/content/drive')"
      ],
      "metadata": {
        "colab": {
          "base_uri": "https://localhost:8080/"
        },
        "id": "uYGfkUudTLcw",
        "outputId": "c9a5f971-28c6-4541-98c9-129dfe26b2dc"
      },
      "execution_count": 1,
      "outputs": [
        {
          "output_type": "stream",
          "name": "stdout",
          "text": [
            "Mounted at /content/drive\n"
          ]
        }
      ]
    },
    {
      "cell_type": "code",
      "source": [
        "import pandas as pd\n",
        "lab = pd.read_csv('/content/drive/MyDrive/Thesis Project Kidney/Lab.csv')"
      ],
      "metadata": {
        "id": "vlrKZbvyUIod"
      },
      "execution_count": 2,
      "outputs": []
    },
    {
      "cell_type": "code",
      "source": [
        "lab.head()"
      ],
      "metadata": {
        "colab": {
          "base_uri": "https://localhost:8080/",
          "height": 206
        },
        "id": "QJINQrhZVI09",
        "outputId": "8c52a880-d030-45ed-86ee-b5be52b7f551"
      },
      "execution_count": 3,
      "outputs": [
        {
          "output_type": "execute_result",
          "data": {
            "text/plain": [
              "   LabNo  PatientUID  PatientVisitUID  \\\n",
              "0      1        2299          2024049   \n",
              "1      1        2299          2024049   \n",
              "2      1        2299          2024049   \n",
              "3      1        2299          2024049   \n",
              "4      1        2299          2024049   \n",
              "\n",
              "                                    Location RequestItemName  \\\n",
              "0              เวชศาสตร์นิวเคลียร์ (OPD)-D15      BMD LUMBAR   \n",
              "1  ห้องปฏิบัติการเคมีคลินิก เวชศาสตร์ชันสูตร  ALBUMIN, 32403   \n",
              "2  ห้องปฏิบัติการเคมีคลินิก เวชศาสตร์ชันสูตร   Alkaline Phos   \n",
              "3  ห้องปฏิบัติการเคมีคลินิก เวชศาสตร์ชันสูตร      ALT, 32311   \n",
              "4  ห้องปฏิบัติการเคมีคลินิก เวชศาสตร์ชันสูตร      AST, 32310   \n",
              "\n",
              "     ResultItemName                    CWhen ResultDttm ResultValue Unit  \\\n",
              "0  Formatted Result  2558-02-19 16:16:51.423        NaN          FT  NaN   \n",
              "1    ALBUMIN, 32403  2558-02-19 10:32:20.907        NaN         4.1  NaN   \n",
              "2        ALP, 32309  2558-02-19 10:32:21.610        NaN          44  NaN   \n",
              "3        ALT, 32311  2558-02-19 10:32:21.390        NaN          17  NaN   \n",
              "4        AST, 32310  2558-02-19 10:32:21.500        NaN          23  NaN   \n",
              "\n",
              "  ReferenceRange  \n",
              "0            NaN  \n",
              "1      3.8 - 5.4  \n",
              "2       42 - 121  \n",
              "3         4 - 36  \n",
              "4        12 - 32  "
            ],
            "text/html": [
              "\n",
              "  <div id=\"df-2b6ac0a4-2be1-4cc3-a79f-76337fc487f7\">\n",
              "    <div class=\"colab-df-container\">\n",
              "      <div>\n",
              "<style scoped>\n",
              "    .dataframe tbody tr th:only-of-type {\n",
              "        vertical-align: middle;\n",
              "    }\n",
              "\n",
              "    .dataframe tbody tr th {\n",
              "        vertical-align: top;\n",
              "    }\n",
              "\n",
              "    .dataframe thead th {\n",
              "        text-align: right;\n",
              "    }\n",
              "</style>\n",
              "<table border=\"1\" class=\"dataframe\">\n",
              "  <thead>\n",
              "    <tr style=\"text-align: right;\">\n",
              "      <th></th>\n",
              "      <th>LabNo</th>\n",
              "      <th>PatientUID</th>\n",
              "      <th>PatientVisitUID</th>\n",
              "      <th>Location</th>\n",
              "      <th>RequestItemName</th>\n",
              "      <th>ResultItemName</th>\n",
              "      <th>CWhen</th>\n",
              "      <th>ResultDttm</th>\n",
              "      <th>ResultValue</th>\n",
              "      <th>Unit</th>\n",
              "      <th>ReferenceRange</th>\n",
              "    </tr>\n",
              "  </thead>\n",
              "  <tbody>\n",
              "    <tr>\n",
              "      <th>0</th>\n",
              "      <td>1</td>\n",
              "      <td>2299</td>\n",
              "      <td>2024049</td>\n",
              "      <td>เวชศาสตร์นิวเคลียร์ (OPD)-D15</td>\n",
              "      <td>BMD LUMBAR</td>\n",
              "      <td>Formatted Result</td>\n",
              "      <td>2558-02-19 16:16:51.423</td>\n",
              "      <td>NaN</td>\n",
              "      <td>FT</td>\n",
              "      <td>NaN</td>\n",
              "      <td>NaN</td>\n",
              "    </tr>\n",
              "    <tr>\n",
              "      <th>1</th>\n",
              "      <td>1</td>\n",
              "      <td>2299</td>\n",
              "      <td>2024049</td>\n",
              "      <td>ห้องปฏิบัติการเคมีคลินิก เวชศาสตร์ชันสูตร</td>\n",
              "      <td>ALBUMIN, 32403</td>\n",
              "      <td>ALBUMIN, 32403</td>\n",
              "      <td>2558-02-19 10:32:20.907</td>\n",
              "      <td>NaN</td>\n",
              "      <td>4.1</td>\n",
              "      <td>NaN</td>\n",
              "      <td>3.8 - 5.4</td>\n",
              "    </tr>\n",
              "    <tr>\n",
              "      <th>2</th>\n",
              "      <td>1</td>\n",
              "      <td>2299</td>\n",
              "      <td>2024049</td>\n",
              "      <td>ห้องปฏิบัติการเคมีคลินิก เวชศาสตร์ชันสูตร</td>\n",
              "      <td>Alkaline Phos</td>\n",
              "      <td>ALP, 32309</td>\n",
              "      <td>2558-02-19 10:32:21.610</td>\n",
              "      <td>NaN</td>\n",
              "      <td>44</td>\n",
              "      <td>NaN</td>\n",
              "      <td>42 - 121</td>\n",
              "    </tr>\n",
              "    <tr>\n",
              "      <th>3</th>\n",
              "      <td>1</td>\n",
              "      <td>2299</td>\n",
              "      <td>2024049</td>\n",
              "      <td>ห้องปฏิบัติการเคมีคลินิก เวชศาสตร์ชันสูตร</td>\n",
              "      <td>ALT, 32311</td>\n",
              "      <td>ALT, 32311</td>\n",
              "      <td>2558-02-19 10:32:21.390</td>\n",
              "      <td>NaN</td>\n",
              "      <td>17</td>\n",
              "      <td>NaN</td>\n",
              "      <td>4 - 36</td>\n",
              "    </tr>\n",
              "    <tr>\n",
              "      <th>4</th>\n",
              "      <td>1</td>\n",
              "      <td>2299</td>\n",
              "      <td>2024049</td>\n",
              "      <td>ห้องปฏิบัติการเคมีคลินิก เวชศาสตร์ชันสูตร</td>\n",
              "      <td>AST, 32310</td>\n",
              "      <td>AST, 32310</td>\n",
              "      <td>2558-02-19 10:32:21.500</td>\n",
              "      <td>NaN</td>\n",
              "      <td>23</td>\n",
              "      <td>NaN</td>\n",
              "      <td>12 - 32</td>\n",
              "    </tr>\n",
              "  </tbody>\n",
              "</table>\n",
              "</div>\n",
              "      <button class=\"colab-df-convert\" onclick=\"convertToInteractive('df-2b6ac0a4-2be1-4cc3-a79f-76337fc487f7')\"\n",
              "              title=\"Convert this dataframe to an interactive table.\"\n",
              "              style=\"display:none;\">\n",
              "        \n",
              "  <svg xmlns=\"http://www.w3.org/2000/svg\" height=\"24px\"viewBox=\"0 0 24 24\"\n",
              "       width=\"24px\">\n",
              "    <path d=\"M0 0h24v24H0V0z\" fill=\"none\"/>\n",
              "    <path d=\"M18.56 5.44l.94 2.06.94-2.06 2.06-.94-2.06-.94-.94-2.06-.94 2.06-2.06.94zm-11 1L8.5 8.5l.94-2.06 2.06-.94-2.06-.94L8.5 2.5l-.94 2.06-2.06.94zm10 10l.94 2.06.94-2.06 2.06-.94-2.06-.94-.94-2.06-.94 2.06-2.06.94z\"/><path d=\"M17.41 7.96l-1.37-1.37c-.4-.4-.92-.59-1.43-.59-.52 0-1.04.2-1.43.59L10.3 9.45l-7.72 7.72c-.78.78-.78 2.05 0 2.83L4 21.41c.39.39.9.59 1.41.59.51 0 1.02-.2 1.41-.59l7.78-7.78 2.81-2.81c.8-.78.8-2.07 0-2.86zM5.41 20L4 18.59l7.72-7.72 1.47 1.35L5.41 20z\"/>\n",
              "  </svg>\n",
              "      </button>\n",
              "      \n",
              "  <style>\n",
              "    .colab-df-container {\n",
              "      display:flex;\n",
              "      flex-wrap:wrap;\n",
              "      gap: 12px;\n",
              "    }\n",
              "\n",
              "    .colab-df-convert {\n",
              "      background-color: #E8F0FE;\n",
              "      border: none;\n",
              "      border-radius: 50%;\n",
              "      cursor: pointer;\n",
              "      display: none;\n",
              "      fill: #1967D2;\n",
              "      height: 32px;\n",
              "      padding: 0 0 0 0;\n",
              "      width: 32px;\n",
              "    }\n",
              "\n",
              "    .colab-df-convert:hover {\n",
              "      background-color: #E2EBFA;\n",
              "      box-shadow: 0px 1px 2px rgba(60, 64, 67, 0.3), 0px 1px 3px 1px rgba(60, 64, 67, 0.15);\n",
              "      fill: #174EA6;\n",
              "    }\n",
              "\n",
              "    [theme=dark] .colab-df-convert {\n",
              "      background-color: #3B4455;\n",
              "      fill: #D2E3FC;\n",
              "    }\n",
              "\n",
              "    [theme=dark] .colab-df-convert:hover {\n",
              "      background-color: #434B5C;\n",
              "      box-shadow: 0px 1px 3px 1px rgba(0, 0, 0, 0.15);\n",
              "      filter: drop-shadow(0px 1px 2px rgba(0, 0, 0, 0.3));\n",
              "      fill: #FFFFFF;\n",
              "    }\n",
              "  </style>\n",
              "\n",
              "      <script>\n",
              "        const buttonEl =\n",
              "          document.querySelector('#df-2b6ac0a4-2be1-4cc3-a79f-76337fc487f7 button.colab-df-convert');\n",
              "        buttonEl.style.display =\n",
              "          google.colab.kernel.accessAllowed ? 'block' : 'none';\n",
              "\n",
              "        async function convertToInteractive(key) {\n",
              "          const element = document.querySelector('#df-2b6ac0a4-2be1-4cc3-a79f-76337fc487f7');\n",
              "          const dataTable =\n",
              "            await google.colab.kernel.invokeFunction('convertToInteractive',\n",
              "                                                     [key], {});\n",
              "          if (!dataTable) return;\n",
              "\n",
              "          const docLinkHtml = 'Like what you see? Visit the ' +\n",
              "            '<a target=\"_blank\" href=https://colab.research.google.com/notebooks/data_table.ipynb>data table notebook</a>'\n",
              "            + ' to learn more about interactive tables.';\n",
              "          element.innerHTML = '';\n",
              "          dataTable['output_type'] = 'display_data';\n",
              "          await google.colab.output.renderOutput(dataTable, element);\n",
              "          const docLink = document.createElement('div');\n",
              "          docLink.innerHTML = docLinkHtml;\n",
              "          element.appendChild(docLink);\n",
              "        }\n",
              "      </script>\n",
              "    </div>\n",
              "  </div>\n",
              "  "
            ]
          },
          "metadata": {},
          "execution_count": 3
        }
      ]
    },
    {
      "cell_type": "code",
      "source": [
        "import csv\n",
        "\n",
        "# Specify the file path\n",
        "file_path = \"/content/drive/MyDrive/Thesis Project Kidney/Lab.csv\"\n",
        "\n",
        "# Open and read the CSV file as a dictionary\n",
        "with open(file_path, \"r\") as file:\n",
        "    reader = csv.DictReader(file)\n",
        "    data_dict = [row for row in reader]\n",
        "\n",
        "# Now, you can work with the dictionary\n",
        "print(data_dict)"
      ],
      "metadata": {
        "id": "0uZP08Yy3eTK"
      },
      "execution_count": null,
      "outputs": []
    },
    {
      "cell_type": "code",
      "source": [
        "import pandas as pd\n",
        "import numpy as np\n",
        "\n",
        "# Replace NaN values with an empty string ('') or any other suitable value\n",
        "lab['ResultItemName'].fillna('', inplace=True)\n",
        "\n",
        "# Filter rows where the column value starts with 'A'\n",
        "filtered_df = lab[lab['ResultItemName'].str.startswith('eGFR', na=False)]\n",
        "\n",
        "# Get the values from the filtered column\n",
        "values = filtered_df['ResultItemName'].values\n",
        "\n",
        "# Print the values\n",
        "for value in values:\n",
        "    print(value)"
      ],
      "metadata": {
        "id": "kv3PTtA5qGSt"
      },
      "execution_count": null,
      "outputs": []
    },
    {
      "cell_type": "code",
      "source": [
        "eGFR = lab[lab['ResultItemName']=='eGFR(CKD-EPI) age >=18']\n",
        "eGFR"
      ],
      "metadata": {
        "id": "M2xqYgz9qkTb"
      },
      "execution_count": null,
      "outputs": []
    },
    {
      "cell_type": "code",
      "source": [
        "lab1 = eGFR[eGFR['LabNo']==1]\n",
        "lab1"
      ],
      "metadata": {
        "id": "h6ro_q_xu-0w"
      },
      "execution_count": null,
      "outputs": []
    },
    {
      "cell_type": "code",
      "source": [
        "lab2 = eGFR[eGFR['LabNo']==2]\n",
        "lab2"
      ],
      "metadata": {
        "id": "O6npEp7NvS1v"
      },
      "execution_count": null,
      "outputs": []
    },
    {
      "cell_type": "code",
      "source": [
        "# Convert DataFrame to dictionary\n",
        "data_dict = lab.to_dict(orient='records')\n",
        "\n",
        "# Print the dictionary\n",
        "print(data_dict)"
      ],
      "metadata": {
        "id": "81zjSCa3vFPo"
      },
      "execution_count": null,
      "outputs": []
    },
    {
      "cell_type": "code",
      "source": [],
      "metadata": {
        "id": "Z96yr4C9qzOi"
      },
      "execution_count": null,
      "outputs": []
    }
  ]
}