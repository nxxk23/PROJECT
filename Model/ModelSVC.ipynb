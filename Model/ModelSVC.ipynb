{
  "nbformat": 4,
  "nbformat_minor": 0,
  "metadata": {
    "colab": {
      "provenance": [],
      "toc_visible": true,
      "authorship_tag": "ABX9TyOORsZecmgejr04Ly5HpFZh",
      "include_colab_link": true
    },
    "kernelspec": {
      "name": "python3",
      "display_name": "Python 3"
    },
    "language_info": {
      "name": "python"
    }
  },
  "cells": [
    {
      "cell_type": "markdown",
      "metadata": {
        "id": "view-in-github",
        "colab_type": "text"
      },
      "source": [
        "<a href=\"https://colab.research.google.com/github/nxxk23/PROJECT/blob/main/Model/ModelSVC.ipynb\" target=\"_parent\"><img src=\"https://colab.research.google.com/assets/colab-badge.svg\" alt=\"Open In Colab\"/></a>"
      ]
    },
    {
      "cell_type": "code",
      "execution_count": null,
      "metadata": {
        "id": "Id_H39GDNL3k"
      },
      "outputs": [],
      "source": []
    },
    {
      "cell_type": "markdown",
      "source": [
        "#Import"
      ],
      "metadata": {
        "id": "EGjwjgdLaCOq"
      }
    },
    {
      "cell_type": "code",
      "execution_count": 1,
      "metadata": {
        "colab": {
          "base_uri": "https://localhost:8080/"
        },
        "id": "bdY5NFU5Z7cK",
        "outputId": "82b5aac4-77ea-403d-a9cb-c96b1ee89482"
      },
      "outputs": [
        {
          "output_type": "stream",
          "name": "stdout",
          "text": [
            "Mounted at /content/drive\n"
          ]
        }
      ],
      "source": [
        "from google.colab import drive\n",
        "drive.mount('/content/drive')"
      ]
    },
    {
      "cell_type": "code",
      "source": [
        "!pip install shap"
      ],
      "metadata": {
        "id": "Xld2Qx5VaWi7",
        "colab": {
          "base_uri": "https://localhost:8080/"
        },
        "outputId": "c8f9af6a-a96f-4efe-f5ec-f719967cc254"
      },
      "execution_count": 2,
      "outputs": [
        {
          "output_type": "stream",
          "name": "stdout",
          "text": [
            "Collecting shap\n",
            "  Downloading shap-0.45.0-cp310-cp310-manylinux_2_12_x86_64.manylinux2010_x86_64.manylinux_2_17_x86_64.manylinux2014_x86_64.whl (538 kB)\n",
            "\u001b[2K     \u001b[90m━━━━━━━━━━━━━━━━━━━━━━━━━━━━━━━━━━━━━━━━\u001b[0m \u001b[32m538.2/538.2 kB\u001b[0m \u001b[31m8.6 MB/s\u001b[0m eta \u001b[36m0:00:00\u001b[0m\n",
            "\u001b[?25hRequirement already satisfied: numpy in /usr/local/lib/python3.10/dist-packages (from shap) (1.25.2)\n",
            "Requirement already satisfied: scipy in /usr/local/lib/python3.10/dist-packages (from shap) (1.11.4)\n",
            "Requirement already satisfied: scikit-learn in /usr/local/lib/python3.10/dist-packages (from shap) (1.2.2)\n",
            "Requirement already satisfied: pandas in /usr/local/lib/python3.10/dist-packages (from shap) (1.5.3)\n",
            "Requirement already satisfied: tqdm>=4.27.0 in /usr/local/lib/python3.10/dist-packages (from shap) (4.66.2)\n",
            "Requirement already satisfied: packaging>20.9 in /usr/local/lib/python3.10/dist-packages (from shap) (24.0)\n",
            "Collecting slicer==0.0.7 (from shap)\n",
            "  Downloading slicer-0.0.7-py3-none-any.whl (14 kB)\n",
            "Requirement already satisfied: numba in /usr/local/lib/python3.10/dist-packages (from shap) (0.58.1)\n",
            "Requirement already satisfied: cloudpickle in /usr/local/lib/python3.10/dist-packages (from shap) (2.2.1)\n",
            "Requirement already satisfied: llvmlite<0.42,>=0.41.0dev0 in /usr/local/lib/python3.10/dist-packages (from numba->shap) (0.41.1)\n",
            "Requirement already satisfied: python-dateutil>=2.8.1 in /usr/local/lib/python3.10/dist-packages (from pandas->shap) (2.8.2)\n",
            "Requirement already satisfied: pytz>=2020.1 in /usr/local/lib/python3.10/dist-packages (from pandas->shap) (2023.4)\n",
            "Requirement already satisfied: joblib>=1.1.1 in /usr/local/lib/python3.10/dist-packages (from scikit-learn->shap) (1.3.2)\n",
            "Requirement already satisfied: threadpoolctl>=2.0.0 in /usr/local/lib/python3.10/dist-packages (from scikit-learn->shap) (3.3.0)\n",
            "Requirement already satisfied: six>=1.5 in /usr/local/lib/python3.10/dist-packages (from python-dateutil>=2.8.1->pandas->shap) (1.16.0)\n",
            "Installing collected packages: slicer, shap\n",
            "Successfully installed shap-0.45.0 slicer-0.0.7\n"
          ]
        }
      ]
    },
    {
      "cell_type": "code",
      "source": [
        "!pip install scikeras"
      ],
      "metadata": {
        "id": "l5VLiVXGaX1-",
        "colab": {
          "base_uri": "https://localhost:8080/"
        },
        "outputId": "553dc80c-40df-4660-c766-685421aa130a"
      },
      "execution_count": 3,
      "outputs": [
        {
          "output_type": "stream",
          "name": "stdout",
          "text": [
            "Collecting scikeras\n",
            "  Downloading scikeras-0.12.0-py3-none-any.whl (27 kB)\n",
            "Requirement already satisfied: packaging>=0.21 in /usr/local/lib/python3.10/dist-packages (from scikeras) (24.0)\n",
            "Requirement already satisfied: scikit-learn>=1.0.0 in /usr/local/lib/python3.10/dist-packages (from scikeras) (1.2.2)\n",
            "Requirement already satisfied: numpy>=1.17.3 in /usr/local/lib/python3.10/dist-packages (from scikit-learn>=1.0.0->scikeras) (1.25.2)\n",
            "Requirement already satisfied: scipy>=1.3.2 in /usr/local/lib/python3.10/dist-packages (from scikit-learn>=1.0.0->scikeras) (1.11.4)\n",
            "Requirement already satisfied: joblib>=1.1.1 in /usr/local/lib/python3.10/dist-packages (from scikit-learn>=1.0.0->scikeras) (1.3.2)\n",
            "Requirement already satisfied: threadpoolctl>=2.0.0 in /usr/local/lib/python3.10/dist-packages (from scikit-learn>=1.0.0->scikeras) (3.3.0)\n",
            "Installing collected packages: scikeras\n",
            "Successfully installed scikeras-0.12.0\n"
          ]
        }
      ]
    },
    {
      "cell_type": "code",
      "source": [
        "import pandas as pd\n",
        "import matplotlib.pyplot as plt\n",
        "import numpy as np\n",
        "\n",
        "from sklearn.preprocessing import LabelEncoder\n",
        "from sklearn.model_selection import KFold, cross_val_score\n",
        "from sklearn.preprocessing import StandardScaler\n",
        "\n",
        "import tensorflow as tf\n",
        "from tensorflow.keras.models import Sequential\n",
        "from tensorflow.keras.layers import Dense, Activation, Dropout\n",
        "from keras.optimizers import Adam\n",
        "from scikeras.wrappers import KerasRegressor\n",
        "\n",
        "from imblearn.over_sampling import SMOTE\n",
        "from sklearn.metrics import mean_squared_error, mean_absolute_error, r2_score\n",
        "from sklearn.metrics import confusion_matrix, accuracy_score, precision_score, recall_score, f1_score\n",
        "\n",
        "import shap\n"
      ],
      "metadata": {
        "id": "jlGdB-wJaJCU"
      },
      "execution_count": 4,
      "outputs": []
    },
    {
      "cell_type": "code",
      "source": [
        "bi3 = pd.read_excel('/content/drive/MyDrive/ckdresearch2023/Assign/Assign8 : SplitFold /binary_3_Group_5_Fold.xlsx')\n",
        "bi3 = bi3.iloc[:, 1:]"
      ],
      "metadata": {
        "id": "RBP0XcLIaG2B"
      },
      "execution_count": 5,
      "outputs": []
    },
    {
      "cell_type": "code",
      "source": [
        "bi3['NATNL'] = bi3['NATNL'].replace({0: 'Asian', 1: 'Asian', 3: 'Asian', 2: 'Non-Asian'})"
      ],
      "metadata": {
        "id": "EgSdhs8gaL1w"
      },
      "execution_count": 6,
      "outputs": []
    },
    {
      "cell_type": "code",
      "source": [
        "bi3 = bi3.sort_values(['PatientUID', 'PatientVisitUID'])\n",
        "bi3['TimeDiff'] = bi3.groupby('PatientUID')['LabCwhen'].diff().dt.days / 365\n",
        "bi3['TimeDiff'] = bi3['TimeDiff'].fillna(0)"
      ],
      "metadata": {
        "id": "jAtPG56MaODu"
      },
      "execution_count": 7,
      "outputs": []
    },
    {
      "cell_type": "code",
      "source": [
        "bi3['time_t1'] = pd.to_datetime(bi3['time_t1'])"
      ],
      "metadata": {
        "id": "9iKljfs8aPR_"
      },
      "execution_count": 8,
      "outputs": []
    },
    {
      "cell_type": "code",
      "source": [
        "columns_to_encode = ['VisitLocation', 'Group', 'NATNL']\n",
        "\n",
        "# Apply label encoding using map\n",
        "for column in columns_to_encode:\n",
        "    encoding_map = {category: i for i, category in enumerate(bi3[column].unique())}\n",
        "    bi3[column] = bi3[column].map(encoding_map)"
      ],
      "metadata": {
        "id": "qMeDyH1LaQQU"
      },
      "execution_count": 9,
      "outputs": []
    },
    {
      "cell_type": "code",
      "source": [
        "def categorize_eGFR(eGFR_value):\n",
        "    if eGFR_value >= 90:\n",
        "        return 0\n",
        "    elif eGFR_value >= 60:\n",
        "        return 1\n",
        "    elif eGFR_value >= 30:\n",
        "        return 2\n",
        "    elif eGFR_value >= 15:\n",
        "        return 3\n",
        "    else:\n",
        "        return 4\n",
        "\n",
        "bi3['Stage'] = bi3['eGFR_t1'].apply(categorize_eGFR)"
      ],
      "metadata": {
        "id": "WYDg2HCgdcz_"
      },
      "execution_count": 10,
      "outputs": []
    },
    {
      "cell_type": "markdown",
      "source": [
        "# Split"
      ],
      "metadata": {
        "id": "eIIekV6ka0xj"
      }
    },
    {
      "cell_type": "code",
      "source": [
        "X = bi3.drop(['Slopes', 'PatientUID', 'PatientVisitUID', 'eGFR_t1', 'time_t1', 'StartDTTM', 'EndDttm',\n",
        "               'LabCwhen', 'LabLocation', 'Fold'], axis=1)\n",
        "y = bi3['Slopes']"
      ],
      "metadata": {
        "id": "q_lyC89ra2Fm"
      },
      "execution_count": 11,
      "outputs": []
    },
    {
      "cell_type": "code",
      "source": [
        "\n",
        "num_folds = 5\n",
        "kf = KFold(n_splits=num_folds, shuffle=True, random_state=None)\n",
        "X = bi3.drop(['Slopes', 'PatientUID', 'PatientVisitUID', 'eGFR_t1', 'time_t1', 'StartDTTM', 'EndDttm',\n",
        "               'LabCwhen', 'LabLocation', 'Fold'], axis=1)\n",
        "y = bi3['Slopes']\n",
        "all_folds = bi3['Fold'].unique()\n",
        "X_train_scaled_list_bi3 = []\n",
        "y_train_list_bi3 = []\n",
        "X_test_scaled_list_bi3 = []\n",
        "y_test_list_bi3 = []\n",
        "for train_folds, test_fold in kf.split(all_folds):\n",
        "    train_folds = all_folds[train_folds]\n",
        "    val_fold = all_folds[test_fold][0]\n",
        "    train_indices = bi3['Fold'].isin(train_folds)\n",
        "    test_indices = bi3['Fold'] == val_fold\n",
        "    X_train, X_test = X[train_indices], X[test_indices]\n",
        "    y_train, y_test = y[train_indices], y[test_indices]\n",
        "    scaler = StandardScaler()\n",
        "    X_train_scaled = scaler.fit_transform(X_train)\n",
        "    X_test_scaled = scaler.transform(X_test)\n",
        "    X_train_scaled = pd.DataFrame(X_train_scaled, columns=X_train.columns)\n",
        "    X_train_scaled_list_bi3.append(X_train_scaled)\n",
        "    y_train_list_bi3.append(y_train)\n",
        "    X_test_scaled_list_bi3.append(X_test_scaled)\n",
        "    y_test_list_bi3.append(y_test)\n",
        "for fold, (X_train_scaled_fold, y_train_fold, X_test_scaled_fold, y_test_fold, train_fold_indices) in enumerate(\n",
        "        zip(X_train_scaled_list_bi3, y_train_list_bi3, X_test_scaled_list_bi3, y_test_list_bi3, kf.split(all_folds))\n",
        "):\n",
        "    train_folds, test_fold = train_fold_indices\n",
        "    print(f\"Training set size: {X_train_scaled_fold.shape}\")\n",
        "    print(f\"Test set size: {X_test_scaled_fold.shape}\")\n",
        "    print(f\"Folds in training set: {train_folds.tolist()}\")\n",
        "    print(f\"Folds in test set: {test_fold}\")\n",
        "    print(\"---\\n\")\n"
      ],
      "metadata": {
        "id": "EXjHMnEWa3Kj",
        "colab": {
          "base_uri": "https://localhost:8080/"
        },
        "outputId": "0a689682-bb03-40b6-c473-464f2cb7a336"
      },
      "execution_count": 12,
      "outputs": [
        {
          "output_type": "stream",
          "name": "stdout",
          "text": [
            "Training set size: (42027, 122)\n",
            "Test set size: (10593, 122)\n",
            "Folds in training set: [0, 1, 2, 3]\n",
            "Folds in test set: [4]\n",
            "---\n",
            "\n",
            "Training set size: (41978, 122)\n",
            "Test set size: (10642, 122)\n",
            "Folds in training set: [0, 1, 2, 4]\n",
            "Folds in test set: [3]\n",
            "---\n",
            "\n",
            "Training set size: (42184, 122)\n",
            "Test set size: (10436, 122)\n",
            "Folds in training set: [1, 2, 3, 4]\n",
            "Folds in test set: [0]\n",
            "---\n",
            "\n",
            "Training set size: (42274, 122)\n",
            "Test set size: (10346, 122)\n",
            "Folds in training set: [0, 2, 3, 4]\n",
            "Folds in test set: [1]\n",
            "---\n",
            "\n",
            "Training set size: (42017, 122)\n",
            "Test set size: (10603, 122)\n",
            "Folds in training set: [0, 1, 3, 4]\n",
            "Folds in test set: [2]\n",
            "---\n",
            "\n"
          ]
        }
      ]
    },
    {
      "cell_type": "markdown",
      "source": [
        "#SVC"
      ],
      "metadata": {
        "id": "SGJ2kH4EPsL5"
      }
    },
    {
      "cell_type": "code",
      "source": [
        "from sklearn.svm import SVC\n",
        "from sklearn import svm"
      ],
      "metadata": {
        "id": "0l4TTk8uP02y"
      },
      "execution_count": 15,
      "outputs": []
    },
    {
      "cell_type": "code",
      "source": [
        "binary3_X = bi3.drop(['Group', 'PatientUID', 'PatientVisitUID', 'eGFR_t1', 'time_t1', 'StartDTTM', 'EndDttm',\n",
        "               'LabCwhen', 'LabLocation','Fold','Slopes'], axis=1)\n",
        "binary3_y = bi3['Group']\n",
        "\n",
        "\n",
        "binary3_label_encoder = LabelEncoder()\n",
        "bi3['Group'] = binary3_label_encoder.fit_transform(bi3['Group'])\n",
        "\n",
        "num_folds = 5\n",
        "kf = KFold(n_splits=num_folds, shuffle=True, random_state=None)\n",
        "binary3_all_folds = bi3['Fold'].unique()\n",
        "\n",
        "xgb_metrics_list = []\n",
        "binary3_accuracy_per_fold = []\n",
        "binary3_conf_mat_list = []\n",
        "binary3_precision_per_fold = []\n",
        "binary3_recall_per_fold = []\n",
        "binary3_f1_per_fold = []\n",
        "binary3_loss_per_fold = []\n"
      ],
      "metadata": {
        "id": "yz1NTiiCPrs9"
      },
      "execution_count": 17,
      "outputs": []
    },
    {
      "cell_type": "code",
      "source": [
        "for fold, (train_folds, test_fold) in enumerate(kf.split(binary3_all_folds)):\n",
        "    train_folds = binary3_all_folds[train_folds]\n",
        "    test_fold = binary3_all_folds[test_fold][0]\n",
        "    train_indices = bi3['Fold'].isin(train_folds)\n",
        "    test_indices = bi3['Fold'] == test_fold\n",
        "\n",
        "    binary3_X_train, binary3_X_test = binary3_X[train_indices], binary3_X[test_indices]\n",
        "    binary3_y_train, binary3_y_test = binary3_y[train_indices], binary3_y[test_indices]\n",
        "\n",
        "    # Scale\n",
        "    binary3_scaler = StandardScaler()\n",
        "    binary3_X_train_scaled = binary3_scaler.fit_transform(binary3_X_train)\n",
        "    binary3_X_test_scaled = binary3_scaler.transform(binary3_X_test)\n",
        "\n",
        "    # Create and train XGBoost model using best parameters\n",
        "    model_svc = svm.SVC(decision_function_shape='ovo')\n",
        "    model_svc.fit(binary3_X_train_scaled, binary3_y_train)\n",
        "\n",
        "    # Make predictions on the test set\n",
        "    binary3_y_pred = model_svc.predict(binary3_X_test_scaled)\n",
        "\n",
        "    # Evaluate performance\n",
        "    binary3_conf_mat = confusion_matrix(binary3_y_test, binary3_y_pred)\n",
        "    binary3_conf_mat_list.append(binary3_conf_mat)\n",
        "    binary3_accuracy = accuracy_score(binary3_y_test, binary3_y_pred)\n",
        "    binary3_precision = precision_score(binary3_y_test, binary3_y_pred, average='weighted')\n",
        "    binary3_recall = recall_score(binary3_y_test, binary3_y_pred, average='weighted')\n",
        "    binary3_f1 = f1_score(binary3_y_test, binary3_y_pred, average='weighted')\n",
        "\n",
        "    binary3_accuracy_per_fold.append(binary3_accuracy)\n",
        "    binary3_precision_per_fold.append(binary3_precision)\n",
        "    binary3_recall_per_fold.append(binary3_recall)\n",
        "    binary3_f1_per_fold.append(binary3_f1)\n",
        "\n",
        "    xgb_metrics_list.append({\n",
        "        'Fold': fold + 1,\n",
        "        'Accuracy': binary3_accuracy_per_fold,\n",
        "        'Precision': binary3_precision_per_fold,\n",
        "        'Recall': binary3_recall_per_fold,\n",
        "        'F1 Score': binary3_f1_per_fold,\n",
        "    })"
      ],
      "metadata": {
        "id": "uvZ91YpmQfiI"
      },
      "execution_count": 18,
      "outputs": []
    },
    {
      "cell_type": "code",
      "source": [
        "import pandas as pd\n",
        "\n",
        "# Create a DataFrame for performance metrics of each fold\n",
        "fold_data = {\n",
        "    \"Fold\": [f\"Fold {fold+1}\" for fold in range(len(binary3_accuracy_per_fold))],\n",
        "    \"Accuracy (%)\": [accuracy * 100 for accuracy in binary3_accuracy_per_fold],\n",
        "    \"Precision\": binary3_precision_per_fold,\n",
        "    \"Recall\": binary3_recall_per_fold,\n",
        "    \"F1-Score\": binary3_f1_per_fold\n",
        "}\n",
        "\n",
        "# Create DataFrame for fold performance\n",
        "fold_performance_df = pd.DataFrame(fold_data).set_index(\"Fold\")\n",
        "\n",
        "\n",
        "# Calculate overall performance metrics\n",
        "overall_metrics = {\n",
        "    \"Accuracy (%)\": sum(binary3_accuracy_per_fold) / len(binary3_accuracy_per_fold) * 100,\n",
        "    \"Precision\": sum(binary3_precision_per_fold) / len(binary3_precision_per_fold),\n",
        "    \"Recall\": sum(binary3_recall_per_fold) / len(binary3_recall_per_fold),\n",
        "    \"F1-Score\": sum(binary3_f1_per_fold) / len(binary3_f1_per_fold)\n",
        "}\n",
        "# Create DataFrame for overall performance\n",
        "overall_performance_df = pd.DataFrame(overall_metrics, index=[\"Overall\"])\n",
        "\n",
        "# Concatenate fold performance DataFrame with overall performance DataFrame\n",
        "result_svc = pd.concat([fold_performance_df, overall_performance_df])\n",
        "\n",
        "# Print the concatenated DataFrame\n",
        "print(\"\\nSVC Performances:\")\n",
        "result_svc"
      ],
      "metadata": {
        "colab": {
          "base_uri": "https://localhost:8080/",
          "height": 274
        },
        "id": "5RbA4YjRgDK0",
        "outputId": "baae3e1c-8e58-4aec-ad84-4ad0c491cbea"
      },
      "execution_count": 19,
      "outputs": [
        {
          "output_type": "stream",
          "name": "stdout",
          "text": [
            "\n",
            "SVC Performances:\n"
          ]
        },
        {
          "output_type": "execute_result",
          "data": {
            "text/plain": [
              "         Accuracy (%)  Precision    Recall  F1-Score\n",
              "Fold 1      61.501462   0.586453  0.615015  0.590117\n",
              "Fold 2      62.033636   0.590952  0.620336  0.594375\n",
              "Fold 3      61.172472   0.584185  0.611725  0.583467\n",
              "Fold 4      61.766961   0.587628  0.617670  0.589652\n",
              "Fold 5      62.131178   0.592696  0.621312  0.595007\n",
              "Overall     61.721142   0.588383  0.617211  0.590523"
            ],
            "text/html": [
              "\n",
              "  <div id=\"df-5749b124-de02-4a36-ae39-86a3a3cac753\" class=\"colab-df-container\">\n",
              "    <div>\n",
              "<style scoped>\n",
              "    .dataframe tbody tr th:only-of-type {\n",
              "        vertical-align: middle;\n",
              "    }\n",
              "\n",
              "    .dataframe tbody tr th {\n",
              "        vertical-align: top;\n",
              "    }\n",
              "\n",
              "    .dataframe thead th {\n",
              "        text-align: right;\n",
              "    }\n",
              "</style>\n",
              "<table border=\"1\" class=\"dataframe\">\n",
              "  <thead>\n",
              "    <tr style=\"text-align: right;\">\n",
              "      <th></th>\n",
              "      <th>Accuracy (%)</th>\n",
              "      <th>Precision</th>\n",
              "      <th>Recall</th>\n",
              "      <th>F1-Score</th>\n",
              "    </tr>\n",
              "  </thead>\n",
              "  <tbody>\n",
              "    <tr>\n",
              "      <th>Fold 1</th>\n",
              "      <td>61.501462</td>\n",
              "      <td>0.586453</td>\n",
              "      <td>0.615015</td>\n",
              "      <td>0.590117</td>\n",
              "    </tr>\n",
              "    <tr>\n",
              "      <th>Fold 2</th>\n",
              "      <td>62.033636</td>\n",
              "      <td>0.590952</td>\n",
              "      <td>0.620336</td>\n",
              "      <td>0.594375</td>\n",
              "    </tr>\n",
              "    <tr>\n",
              "      <th>Fold 3</th>\n",
              "      <td>61.172472</td>\n",
              "      <td>0.584185</td>\n",
              "      <td>0.611725</td>\n",
              "      <td>0.583467</td>\n",
              "    </tr>\n",
              "    <tr>\n",
              "      <th>Fold 4</th>\n",
              "      <td>61.766961</td>\n",
              "      <td>0.587628</td>\n",
              "      <td>0.617670</td>\n",
              "      <td>0.589652</td>\n",
              "    </tr>\n",
              "    <tr>\n",
              "      <th>Fold 5</th>\n",
              "      <td>62.131178</td>\n",
              "      <td>0.592696</td>\n",
              "      <td>0.621312</td>\n",
              "      <td>0.595007</td>\n",
              "    </tr>\n",
              "    <tr>\n",
              "      <th>Overall</th>\n",
              "      <td>61.721142</td>\n",
              "      <td>0.588383</td>\n",
              "      <td>0.617211</td>\n",
              "      <td>0.590523</td>\n",
              "    </tr>\n",
              "  </tbody>\n",
              "</table>\n",
              "</div>\n",
              "    <div class=\"colab-df-buttons\">\n",
              "\n",
              "  <div class=\"colab-df-container\">\n",
              "    <button class=\"colab-df-convert\" onclick=\"convertToInteractive('df-5749b124-de02-4a36-ae39-86a3a3cac753')\"\n",
              "            title=\"Convert this dataframe to an interactive table.\"\n",
              "            style=\"display:none;\">\n",
              "\n",
              "  <svg xmlns=\"http://www.w3.org/2000/svg\" height=\"24px\" viewBox=\"0 -960 960 960\">\n",
              "    <path d=\"M120-120v-720h720v720H120Zm60-500h600v-160H180v160Zm220 220h160v-160H400v160Zm0 220h160v-160H400v160ZM180-400h160v-160H180v160Zm440 0h160v-160H620v160ZM180-180h160v-160H180v160Zm440 0h160v-160H620v160Z\"/>\n",
              "  </svg>\n",
              "    </button>\n",
              "\n",
              "  <style>\n",
              "    .colab-df-container {\n",
              "      display:flex;\n",
              "      gap: 12px;\n",
              "    }\n",
              "\n",
              "    .colab-df-convert {\n",
              "      background-color: #E8F0FE;\n",
              "      border: none;\n",
              "      border-radius: 50%;\n",
              "      cursor: pointer;\n",
              "      display: none;\n",
              "      fill: #1967D2;\n",
              "      height: 32px;\n",
              "      padding: 0 0 0 0;\n",
              "      width: 32px;\n",
              "    }\n",
              "\n",
              "    .colab-df-convert:hover {\n",
              "      background-color: #E2EBFA;\n",
              "      box-shadow: 0px 1px 2px rgba(60, 64, 67, 0.3), 0px 1px 3px 1px rgba(60, 64, 67, 0.15);\n",
              "      fill: #174EA6;\n",
              "    }\n",
              "\n",
              "    .colab-df-buttons div {\n",
              "      margin-bottom: 4px;\n",
              "    }\n",
              "\n",
              "    [theme=dark] .colab-df-convert {\n",
              "      background-color: #3B4455;\n",
              "      fill: #D2E3FC;\n",
              "    }\n",
              "\n",
              "    [theme=dark] .colab-df-convert:hover {\n",
              "      background-color: #434B5C;\n",
              "      box-shadow: 0px 1px 3px 1px rgba(0, 0, 0, 0.15);\n",
              "      filter: drop-shadow(0px 1px 2px rgba(0, 0, 0, 0.3));\n",
              "      fill: #FFFFFF;\n",
              "    }\n",
              "  </style>\n",
              "\n",
              "    <script>\n",
              "      const buttonEl =\n",
              "        document.querySelector('#df-5749b124-de02-4a36-ae39-86a3a3cac753 button.colab-df-convert');\n",
              "      buttonEl.style.display =\n",
              "        google.colab.kernel.accessAllowed ? 'block' : 'none';\n",
              "\n",
              "      async function convertToInteractive(key) {\n",
              "        const element = document.querySelector('#df-5749b124-de02-4a36-ae39-86a3a3cac753');\n",
              "        const dataTable =\n",
              "          await google.colab.kernel.invokeFunction('convertToInteractive',\n",
              "                                                    [key], {});\n",
              "        if (!dataTable) return;\n",
              "\n",
              "        const docLinkHtml = 'Like what you see? Visit the ' +\n",
              "          '<a target=\"_blank\" href=https://colab.research.google.com/notebooks/data_table.ipynb>data table notebook</a>'\n",
              "          + ' to learn more about interactive tables.';\n",
              "        element.innerHTML = '';\n",
              "        dataTable['output_type'] = 'display_data';\n",
              "        await google.colab.output.renderOutput(dataTable, element);\n",
              "        const docLink = document.createElement('div');\n",
              "        docLink.innerHTML = docLinkHtml;\n",
              "        element.appendChild(docLink);\n",
              "      }\n",
              "    </script>\n",
              "  </div>\n",
              "\n",
              "\n",
              "<div id=\"df-e70e49d3-4302-4fed-8b64-c0ae39cb91ab\">\n",
              "  <button class=\"colab-df-quickchart\" onclick=\"quickchart('df-e70e49d3-4302-4fed-8b64-c0ae39cb91ab')\"\n",
              "            title=\"Suggest charts\"\n",
              "            style=\"display:none;\">\n",
              "\n",
              "<svg xmlns=\"http://www.w3.org/2000/svg\" height=\"24px\"viewBox=\"0 0 24 24\"\n",
              "     width=\"24px\">\n",
              "    <g>\n",
              "        <path d=\"M19 3H5c-1.1 0-2 .9-2 2v14c0 1.1.9 2 2 2h14c1.1 0 2-.9 2-2V5c0-1.1-.9-2-2-2zM9 17H7v-7h2v7zm4 0h-2V7h2v10zm4 0h-2v-4h2v4z\"/>\n",
              "    </g>\n",
              "</svg>\n",
              "  </button>\n",
              "\n",
              "<style>\n",
              "  .colab-df-quickchart {\n",
              "      --bg-color: #E8F0FE;\n",
              "      --fill-color: #1967D2;\n",
              "      --hover-bg-color: #E2EBFA;\n",
              "      --hover-fill-color: #174EA6;\n",
              "      --disabled-fill-color: #AAA;\n",
              "      --disabled-bg-color: #DDD;\n",
              "  }\n",
              "\n",
              "  [theme=dark] .colab-df-quickchart {\n",
              "      --bg-color: #3B4455;\n",
              "      --fill-color: #D2E3FC;\n",
              "      --hover-bg-color: #434B5C;\n",
              "      --hover-fill-color: #FFFFFF;\n",
              "      --disabled-bg-color: #3B4455;\n",
              "      --disabled-fill-color: #666;\n",
              "  }\n",
              "\n",
              "  .colab-df-quickchart {\n",
              "    background-color: var(--bg-color);\n",
              "    border: none;\n",
              "    border-radius: 50%;\n",
              "    cursor: pointer;\n",
              "    display: none;\n",
              "    fill: var(--fill-color);\n",
              "    height: 32px;\n",
              "    padding: 0;\n",
              "    width: 32px;\n",
              "  }\n",
              "\n",
              "  .colab-df-quickchart:hover {\n",
              "    background-color: var(--hover-bg-color);\n",
              "    box-shadow: 0 1px 2px rgba(60, 64, 67, 0.3), 0 1px 3px 1px rgba(60, 64, 67, 0.15);\n",
              "    fill: var(--button-hover-fill-color);\n",
              "  }\n",
              "\n",
              "  .colab-df-quickchart-complete:disabled,\n",
              "  .colab-df-quickchart-complete:disabled:hover {\n",
              "    background-color: var(--disabled-bg-color);\n",
              "    fill: var(--disabled-fill-color);\n",
              "    box-shadow: none;\n",
              "  }\n",
              "\n",
              "  .colab-df-spinner {\n",
              "    border: 2px solid var(--fill-color);\n",
              "    border-color: transparent;\n",
              "    border-bottom-color: var(--fill-color);\n",
              "    animation:\n",
              "      spin 1s steps(1) infinite;\n",
              "  }\n",
              "\n",
              "  @keyframes spin {\n",
              "    0% {\n",
              "      border-color: transparent;\n",
              "      border-bottom-color: var(--fill-color);\n",
              "      border-left-color: var(--fill-color);\n",
              "    }\n",
              "    20% {\n",
              "      border-color: transparent;\n",
              "      border-left-color: var(--fill-color);\n",
              "      border-top-color: var(--fill-color);\n",
              "    }\n",
              "    30% {\n",
              "      border-color: transparent;\n",
              "      border-left-color: var(--fill-color);\n",
              "      border-top-color: var(--fill-color);\n",
              "      border-right-color: var(--fill-color);\n",
              "    }\n",
              "    40% {\n",
              "      border-color: transparent;\n",
              "      border-right-color: var(--fill-color);\n",
              "      border-top-color: var(--fill-color);\n",
              "    }\n",
              "    60% {\n",
              "      border-color: transparent;\n",
              "      border-right-color: var(--fill-color);\n",
              "    }\n",
              "    80% {\n",
              "      border-color: transparent;\n",
              "      border-right-color: var(--fill-color);\n",
              "      border-bottom-color: var(--fill-color);\n",
              "    }\n",
              "    90% {\n",
              "      border-color: transparent;\n",
              "      border-bottom-color: var(--fill-color);\n",
              "    }\n",
              "  }\n",
              "</style>\n",
              "\n",
              "  <script>\n",
              "    async function quickchart(key) {\n",
              "      const quickchartButtonEl =\n",
              "        document.querySelector('#' + key + ' button');\n",
              "      quickchartButtonEl.disabled = true;  // To prevent multiple clicks.\n",
              "      quickchartButtonEl.classList.add('colab-df-spinner');\n",
              "      try {\n",
              "        const charts = await google.colab.kernel.invokeFunction(\n",
              "            'suggestCharts', [key], {});\n",
              "      } catch (error) {\n",
              "        console.error('Error during call to suggestCharts:', error);\n",
              "      }\n",
              "      quickchartButtonEl.classList.remove('colab-df-spinner');\n",
              "      quickchartButtonEl.classList.add('colab-df-quickchart-complete');\n",
              "    }\n",
              "    (() => {\n",
              "      let quickchartButtonEl =\n",
              "        document.querySelector('#df-e70e49d3-4302-4fed-8b64-c0ae39cb91ab button');\n",
              "      quickchartButtonEl.style.display =\n",
              "        google.colab.kernel.accessAllowed ? 'block' : 'none';\n",
              "    })();\n",
              "  </script>\n",
              "</div>\n",
              "    </div>\n",
              "  </div>\n"
            ],
            "application/vnd.google.colaboratory.intrinsic+json": {
              "type": "dataframe",
              "variable_name": "result_svc",
              "summary": "{\n  \"name\": \"result_svc\",\n  \"rows\": 6,\n  \"fields\": [\n    {\n      \"column\": \"Accuracy (%)\",\n      \"properties\": {\n        \"dtype\": \"number\",\n        \"std\": 0.35133444878390624,\n        \"min\": 61.17247238742566,\n        \"max\": 62.131178349934224,\n        \"num_unique_values\": 6,\n        \"samples\": [\n          61.501461850419695,\n          62.0336361878987,\n          61.72114185939016\n        ],\n        \"semantic_type\": \"\",\n        \"description\": \"\"\n      }\n    },\n    {\n      \"column\": \"Precision\",\n      \"properties\": {\n        \"dtype\": \"number\",\n        \"std\": 0.0030698660689763052,\n        \"min\": 0.5841851960831569,\n        \"max\": 0.5926963910821793,\n        \"num_unique_values\": 6,\n        \"samples\": [\n          0.5864527666086398,\n          0.5909515211431955,\n          0.5883827270944195\n        ],\n        \"semantic_type\": \"\",\n        \"description\": \"\"\n      }\n    },\n    {\n      \"column\": \"Recall\",\n      \"properties\": {\n        \"dtype\": \"number\",\n        \"std\": 0.0035133444878390607,\n        \"min\": 0.6117247238742566,\n        \"max\": 0.6213117834993422,\n        \"num_unique_values\": 6,\n        \"samples\": [\n          0.6150146185041969,\n          0.620336361878987,\n          0.6172114185939016\n        ],\n        \"semantic_type\": \"\",\n        \"description\": \"\"\n      }\n    },\n    {\n      \"column\": \"F1-Score\",\n      \"properties\": {\n        \"dtype\": \"number\",\n        \"std\": 0.004139084040602219,\n        \"min\": 0.5834666034377717,\n        \"max\": 0.5950072322128198,\n        \"num_unique_values\": 6,\n        \"samples\": [\n          0.5901168377669773,\n          0.5943746870072023,\n          0.5905234821776217\n        ],\n        \"semantic_type\": \"\",\n        \"description\": \"\"\n      }\n    }\n  ]\n}"
            }
          },
          "metadata": {},
          "execution_count": 19
        }
      ]
    }
  ]
}