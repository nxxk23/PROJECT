{
  "nbformat": 4,
  "nbformat_minor": 0,
  "metadata": {
    "colab": {
      "provenance": [],
      "authorship_tag": "ABX9TyOWhe7fHrZlL+Pcexdpl2nH",
      "include_colab_link": true
    },
    "kernelspec": {
      "name": "python3",
      "display_name": "Python 3"
    },
    "language_info": {
      "name": "python"
    }
  },
  "cells": [
    {
      "cell_type": "markdown",
      "metadata": {
        "id": "view-in-github",
        "colab_type": "text"
      },
      "source": [
        "<a href=\"https://colab.research.google.com/github/nxxk23/PROJECT/blob/main/CapCode.ipynb\" target=\"_parent\"><img src=\"https://colab.research.google.com/assets/colab-badge.svg\" alt=\"Open In Colab\"/></a>"
      ]
    },
    {
      "cell_type": "code",
      "execution_count": null,
      "metadata": {
        "id": "cVLOA7wtSX4F"
      },
      "outputs": [],
      "source": [
        "# Create a list from hemo['PatientUID']\n",
        "patient_uid_list = hemo['PatientUID'].unique().tolist()\n",
        "\n",
        "# Remove patient UIDs from lab['PatientUID'] that are not in the list\n",
        "visit = visit[~visit['PatientUID'].isin(patient_uid_list)]\n",
        "vital = vital[~vital['PatientUID'].isin(patient_uid_list)]\n",
        "diag = diag[~diag['PatientUID'].isin(patient_uid_list)]\n",
        "drug = drug[~drug['PatientUID'].isin(patient_uid_list)]\n",
        "lab = lab[~lab['PatientUID'].isin(patient_uid_list)]"
      ]
    }
  ]
}